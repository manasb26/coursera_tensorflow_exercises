{
  "nbformat": 4,
  "nbformat_minor": 0,
  "metadata": {
    "colab": {
      "name": "Sarcasm Dataset Classifier.ipynb",
      "provenance": [],
      "collapsed_sections": [],
      "authorship_tag": "ABX9TyNycE1Bv+oxB6valBwy+Pgq",
      "include_colab_link": true
    },
    "kernelspec": {
      "name": "python3",
      "display_name": "Python 3"
    }
  },
  "cells": [
    {
      "cell_type": "markdown",
      "metadata": {
        "id": "view-in-github",
        "colab_type": "text"
      },
      "source": [
        "<a href=\"https://colab.research.google.com/github/manasb26/coursera_tensorflow_exercises/blob/master/Sarcasm_Dataset_Classifier.ipynb\" target=\"_parent\"><img src=\"https://colab.research.google.com/assets/colab-badge.svg\" alt=\"Open In Colab\"/></a>"
      ]
    },
    {
      "cell_type": "code",
      "metadata": {
        "id": "af4ZPqWs7f1P",
        "colab_type": "code",
        "colab": {
          "base_uri": "https://localhost:8080/",
          "height": 34
        },
        "outputId": "af3a06bc-d3cb-46b9-e431-3b03a5fd9c2f"
      },
      "source": [
        "import tensorflow as tf\n",
        "from tensorflow.keras.preprocessing.text import Tokenizer\n",
        "from tensorflow.keras.preprocessing.sequence import pad_sequences\n",
        "print(tf.__version__)"
      ],
      "execution_count": 1,
      "outputs": [
        {
          "output_type": "stream",
          "text": [
            "2.2.0-rc3\n"
          ],
          "name": "stdout"
        }
      ]
    },
    {
      "cell_type": "code",
      "metadata": {
        "id": "rJbEoqdK1Rl1",
        "colab_type": "code",
        "colab": {
          "base_uri": "https://localhost:8080/",
          "height": 204
        },
        "outputId": "cdd9fa0a-e19c-40d9-94a0-ff58b63831a8"
      },
      "source": [
        "#Sarcasm data modified\n",
        "!wget --no-check-certificate \\\n",
        "    https://storage.googleapis.com/laurencemoroney-blog.appspot.com/sarcasm.json \\\n",
        "    -O /tmp/sarcasm.json\n",
        "\n",
        "import json\n",
        "\n",
        "with open(\"/tmp/sarcasm.json\", \"r\") as file:\n",
        "  datastore = json.load(file)\n",
        "\n",
        "sentences = []\n",
        "labels = []\n",
        "links = []\n",
        "\n",
        "for item in datastore:\n",
        "  sentences.append(item['headline'])\n",
        "  labels.append(item['is_sarcastic'])\n",
        "  links.append(item['article_link'])  "
      ],
      "execution_count": 2,
      "outputs": [
        {
          "output_type": "stream",
          "text": [
            "--2020-04-16 21:14:16--  https://storage.googleapis.com/laurencemoroney-blog.appspot.com/sarcasm.json\n",
            "Resolving storage.googleapis.com (storage.googleapis.com)... 74.125.142.128, 2607:f8b0:400e:c0a::80\n",
            "Connecting to storage.googleapis.com (storage.googleapis.com)|74.125.142.128|:443... connected.\n",
            "HTTP request sent, awaiting response... 200 OK\n",
            "Length: 5643545 (5.4M) [application/json]\n",
            "Saving to: ‘/tmp/sarcasm.json’\n",
            "\n",
            "\r/tmp/sarcasm.json     0%[                    ]       0  --.-KB/s               \r/tmp/sarcasm.json   100%[===================>]   5.38M  --.-KB/s    in 0.1s    \n",
            "\n",
            "2020-04-16 21:14:17 (43.0 MB/s) - ‘/tmp/sarcasm.json’ saved [5643545/5643545]\n",
            "\n"
          ],
          "name": "stdout"
        }
      ]
    },
    {
      "cell_type": "code",
      "metadata": {
        "id": "aIbrqXaIANDx",
        "colab_type": "code",
        "colab": {}
      },
      "source": [
        "#hyper parameters\n",
        "vocab_size = 10000 \n",
        "embedding_dim = 16\n",
        "max_length = 32\n",
        "trunc_type ='post'\n",
        "padding_type = 'post'\n",
        "oov_tok = '<OOV>'\n",
        "training_size = 20000\n",
        "\n",
        "#splitting training and testing sets\n",
        "training_sentences = sentences[0:training_size]\n",
        "training_labels = labels[0:training_size]\n",
        "\n",
        "testing_sentences = sentences[training_size:]\n",
        "testing_labels = labels[training_size:]\n"
      ],
      "execution_count": 0,
      "outputs": []
    },
    {
      "cell_type": "code",
      "metadata": {
        "id": "ednZbnx_2gA9",
        "colab_type": "code",
        "colab": {
          "base_uri": "https://localhost:8080/",
          "height": 136
        },
        "outputId": "8f4bf62c-4471-4f20-84c4-2b77047a28eb"
      },
      "source": [
        "import numpy as np\n",
        "\n",
        "tokenizer = Tokenizer(num_words=vocab_size, oov_token=oov_tok)\n",
        "tokenizer.fit_on_texts(training_sentence)\n",
        "word_index  = tokenizer.word_index\n",
        "\n",
        "print(len(word_index))\n",
        "\n",
        "train_sequences = tokenizer.texts_to_sequences(training_sentences)\n",
        "train_padded_seq  = pad_sequences(train_sequences, maxlen=max_length, padding=padding_type,truncating=trunc_type)\n",
        "\n",
        "test_sequences = tokenizer.texts_to_sequences(testing_sentences)\n",
        "test_padded_seq  = pad_sequences(test_sequences, maxlen=max_length, padding=padding_type,truncating=trunc_type)\n",
        "\n",
        "train_padded_seq = np.array(train_padded_seq)\n",
        "training_labels = np.array(training_labels)\n",
        "test_padded_seq = np.array(test_padded_seq)\n",
        "testing_labels = np.array(testing_labels)\n",
        "\n",
        "print(training_sentence[2])\n",
        "print(train_sequences[2])\n",
        "print(padded_seq[0])\n",
        "print(padded_seq.shape)"
      ],
      "execution_count": 17,
      "outputs": [
        {
          "output_type": "stream",
          "text": [
            "25637\n",
            "mom starting to fear son's web series closest thing she will have to grandchild\n",
            "[153, 890, 2, 891, 1445, 2215, 595, 5650, 221, 133, 36, 45, 2, 8864]\n",
            "[   0    0    0    0    0    0    0    0    0    0    0    0    0    0\n",
            "    0    0    0    0    0    0    0    0    0    0    0    0    0    0\n",
            "  328    1  799 3405 2404   47  389 2214    1    6 2614 8863]\n",
            "(20000, 40)\n"
          ],
          "name": "stdout"
        }
      ]
    },
    {
      "cell_type": "code",
      "metadata": {
        "id": "Bp4AyF5Q37fF",
        "colab_type": "code",
        "colab": {}
      },
      "source": [
        "model = tf.keras.Sequential([\n",
        "        tf.keras.layers.Embedding(vocab_size, embedding_dim, input_length=max_length),\n",
        "        tf.keras.layers.AveragePooling1D(),\n",
        "        tf.keras.layers.Dense(24, activation='relu'),\n",
        "        tf.keras.layers.Dense(1, activation='sigmoid')\n",
        "  ])\n",
        "\n",
        "\n",
        "model.compile(loss='binary_crossentropy', optimizer='adam', metrics=['accuracy'])"
      ],
      "execution_count": 0,
      "outputs": []
    },
    {
      "cell_type": "code",
      "metadata": {
        "id": "Rd6vJ73A49cg",
        "colab_type": "code",
        "colab": {
          "base_uri": "https://localhost:8080/",
          "height": 1000
        },
        "outputId": "78fa928f-0804-4beb-dbbe-9cef0e860b31"
      },
      "source": [
        "model.summary()\n",
        "no_of_epochs = 30\n",
        "\n",
        "history = model.fit(train_padded_seq, training_labels, epochs=no_of_epochs, validation_data=(test_padded_seq,testing_labels), verbose=2)"
      ],
      "execution_count": 19,
      "outputs": [
        {
          "output_type": "stream",
          "text": [
            "Model: \"sequential_1\"\n",
            "_________________________________________________________________\n",
            "Layer (type)                 Output Shape              Param #   \n",
            "=================================================================\n",
            "embedding_1 (Embedding)      (None, 32, 16)            160000    \n",
            "_________________________________________________________________\n",
            "average_pooling1d_1 (Average (None, 16, 16)            0         \n",
            "_________________________________________________________________\n",
            "dense_2 (Dense)              (None, 16, 24)            408       \n",
            "_________________________________________________________________\n",
            "dense_3 (Dense)              (None, 16, 1)             25        \n",
            "=================================================================\n",
            "Total params: 160,433\n",
            "Trainable params: 160,433\n",
            "Non-trainable params: 0\n",
            "_________________________________________________________________\n",
            "Epoch 1/30\n",
            "625/625 - 2s - loss: 0.6662 - accuracy: 0.5893 - val_loss: 0.6540 - val_accuracy: 0.6013\n",
            "Epoch 2/30\n",
            "625/625 - 2s - loss: 0.6430 - accuracy: 0.6108 - val_loss: 0.6522 - val_accuracy: 0.6025\n",
            "Epoch 3/30\n",
            "625/625 - 2s - loss: 0.6361 - accuracy: 0.6143 - val_loss: 0.6528 - val_accuracy: 0.6024\n",
            "Epoch 4/30\n",
            "625/625 - 2s - loss: 0.6319 - accuracy: 0.6161 - val_loss: 0.6540 - val_accuracy: 0.6031\n",
            "Epoch 5/30\n",
            "625/625 - 2s - loss: 0.6286 - accuracy: 0.6174 - val_loss: 0.6562 - val_accuracy: 0.6020\n",
            "Epoch 6/30\n",
            "625/625 - 2s - loss: 0.6261 - accuracy: 0.6184 - val_loss: 0.6582 - val_accuracy: 0.6019\n",
            "Epoch 7/30\n",
            "625/625 - 2s - loss: 0.6240 - accuracy: 0.6188 - val_loss: 0.6612 - val_accuracy: 0.6015\n",
            "Epoch 8/30\n",
            "625/625 - 2s - loss: 0.6219 - accuracy: 0.6197 - val_loss: 0.6646 - val_accuracy: 0.6016\n",
            "Epoch 9/30\n",
            "625/625 - 2s - loss: 0.6203 - accuracy: 0.6206 - val_loss: 0.6673 - val_accuracy: 0.6019\n",
            "Epoch 10/30\n",
            "625/625 - 2s - loss: 0.6185 - accuracy: 0.6214 - val_loss: 0.6688 - val_accuracy: 0.6013\n",
            "Epoch 11/30\n",
            "625/625 - 2s - loss: 0.6173 - accuracy: 0.6222 - val_loss: 0.6731 - val_accuracy: 0.6010\n",
            "Epoch 12/30\n",
            "625/625 - 2s - loss: 0.6159 - accuracy: 0.6236 - val_loss: 0.6766 - val_accuracy: 0.6008\n",
            "Epoch 13/30\n",
            "625/625 - 2s - loss: 0.6146 - accuracy: 0.6240 - val_loss: 0.6780 - val_accuracy: 0.6009\n",
            "Epoch 14/30\n",
            "625/625 - 2s - loss: 0.6133 - accuracy: 0.6248 - val_loss: 0.6831 - val_accuracy: 0.6005\n",
            "Epoch 15/30\n",
            "625/625 - 2s - loss: 0.6121 - accuracy: 0.6257 - val_loss: 0.6865 - val_accuracy: 0.6005\n",
            "Epoch 16/30\n",
            "625/625 - 2s - loss: 0.6111 - accuracy: 0.6263 - val_loss: 0.6889 - val_accuracy: 0.6017\n",
            "Epoch 17/30\n",
            "625/625 - 2s - loss: 0.6098 - accuracy: 0.6271 - val_loss: 0.6930 - val_accuracy: 0.6002\n",
            "Epoch 18/30\n",
            "625/625 - 2s - loss: 0.6088 - accuracy: 0.6278 - val_loss: 0.6935 - val_accuracy: 0.6003\n",
            "Epoch 19/30\n",
            "625/625 - 2s - loss: 0.6076 - accuracy: 0.6286 - val_loss: 0.6980 - val_accuracy: 0.5996\n",
            "Epoch 20/30\n",
            "625/625 - 2s - loss: 0.6065 - accuracy: 0.6291 - val_loss: 0.7008 - val_accuracy: 0.5998\n",
            "Epoch 21/30\n",
            "625/625 - 2s - loss: 0.6054 - accuracy: 0.6303 - val_loss: 0.7017 - val_accuracy: 0.5995\n",
            "Epoch 22/30\n",
            "625/625 - 2s - loss: 0.6044 - accuracy: 0.6305 - val_loss: 0.7067 - val_accuracy: 0.5997\n",
            "Epoch 23/30\n",
            "625/625 - 2s - loss: 0.6031 - accuracy: 0.6318 - val_loss: 0.7077 - val_accuracy: 0.5997\n",
            "Epoch 24/30\n",
            "625/625 - 2s - loss: 0.6018 - accuracy: 0.6323 - val_loss: 0.7134 - val_accuracy: 0.5993\n",
            "Epoch 25/30\n",
            "625/625 - 2s - loss: 0.6007 - accuracy: 0.6333 - val_loss: 0.7132 - val_accuracy: 0.5979\n",
            "Epoch 26/30\n",
            "625/625 - 2s - loss: 0.5994 - accuracy: 0.6337 - val_loss: 0.7187 - val_accuracy: 0.5994\n",
            "Epoch 27/30\n",
            "625/625 - 2s - loss: 0.5980 - accuracy: 0.6347 - val_loss: 0.7198 - val_accuracy: 0.5985\n",
            "Epoch 28/30\n",
            "625/625 - 2s - loss: 0.5966 - accuracy: 0.6353 - val_loss: 0.7239 - val_accuracy: 0.5990\n",
            "Epoch 29/30\n",
            "625/625 - 2s - loss: 0.5956 - accuracy: 0.6358 - val_loss: 0.7251 - val_accuracy: 0.5983\n",
            "Epoch 30/30\n",
            "625/625 - 2s - loss: 0.5943 - accuracy: 0.6364 - val_loss: 0.7279 - val_accuracy: 0.5976\n"
          ],
          "name": "stdout"
        }
      ]
    },
    {
      "cell_type": "code",
      "metadata": {
        "id": "F0f8o11z6zpS",
        "colab_type": "code",
        "colab": {
          "base_uri": "https://localhost:8080/",
          "height": 541
        },
        "outputId": "4057b4fb-2f85-4a60-8686-20e057f0a306"
      },
      "source": [
        "import matplotlib.pyplot as plt\n",
        "\n",
        "def plot_graphs(history, string):\n",
        "  plt.plot(history.history[string])\n",
        "  plt.plot(history.history['val_'+string])\n",
        "  plt.xlabel(\"Epochs\")\n",
        "  plt.ylabel(string)\n",
        "  plt.legend([string, 'val_'+string])\n",
        "  plt.show()\n",
        "\n",
        "plot_graphs(history, 'accuracy')\n",
        "plot_graphs(history, 'loss')"
      ],
      "execution_count": 21,
      "outputs": [
        {
          "output_type": "display_data",
          "data": {
            "image/png": "[encoded data removed]",
            "text/plain": [
              "<Figure size 432x288 with 1 Axes>"
            ]
          },
          "metadata": {
            "tags": [],
            "needs_background": "light"
          }
        },
        {
          "output_type": "display_data",
          "data": {
            "image/png": "[encoded data removed]",
            "text/plain": [
              "<Figure size 432x288 with 1 Axes>"
            ]
          },
          "metadata": {
            "tags": [],
            "needs_background": "light"
          }
        }
      ]
    }
  ]
}